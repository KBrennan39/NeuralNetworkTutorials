{
  "nbformat": 4,
  "nbformat_minor": 0,
  "metadata": {
    "colab": {
      "provenance": []
    },
    "kernelspec": {
      "name": "python3",
      "display_name": "Python 3"
    },
    "language_info": {
      "name": "python"
    }
  },
  "cells": [
    {
      "cell_type": "code",
      "execution_count": null,
      "metadata": {
        "id": "LT3SWB-P2SY5"
      },
      "outputs": [],
      "source": [
        "import torch\n",
        "import torch.nn as nn\n",
        "import torch.nn.functional as F\n",
        "import torch.optim as optim\n",
        "from sklearn.model_selection import train_test_split\n",
        "from sklearn.metrics import mean_squared_error, accuracy_score\n",
        "from sklearn.tree import DecisionTreeClassifier\n",
        "from sklearn.ensemble import RandomForestClassifier\n",
        "from sklearn.datasets import make_classification, make_regression"
      ]
    },
    {
      "cell_type": "code",
      "source": [
        "X_reg, y_reg = make_regression(n_samples=1000, n_features=10, noise=0.1)\n",
        "X_clf, y_clf = make_classification(n_samples=1000, n_features=10, n_classes=2)"
      ],
      "metadata": {
        "id": "TAeZKz8u2o9B"
      },
      "execution_count": null,
      "outputs": []
    },
    {
      "cell_type": "code",
      "source": [
        "X_train_reg, X_test_reg, y_train_reg, y_test_reg = train_test_split(X_reg, y_reg, test_size=0.2)\n",
        "X_train_clf, X_test_clf, y_train_clf, y_test_clf = train_test_split(X_clf, y_clf, test_size=0.2)"
      ],
      "metadata": {
        "id": "9mKGc2Td2sbm"
      },
      "execution_count": null,
      "outputs": []
    },
    {
      "cell_type": "code",
      "source": [
        "X_train_reg = torch.tensor(X_train_reg, dtype=torch.float32)\n",
        "y_train_reg = torch.tensor(y_train_reg, dtype=torch.float32).view(-1, 1)\n",
        "X_test_reg = torch.tensor(X_test_reg, dtype=torch.float32)\n",
        "y_test_reg = torch.tensor(y_test_reg, dtype=torch.float32).view(-1, 1)\n",
        "\n",
        "X_train_clf = torch.tensor(X_train_clf, dtype=torch.float32)\n",
        "y_train_clf = torch.tensor(y_train_clf, dtype=torch.float32).view(-1, 1)\n",
        "X_test_clf = torch.tensor(X_test_clf, dtype=torch.float32)\n",
        "y_test_clf = torch.tensor(y_test_clf, dtype=torch.float32).view(-1, 1)"
      ],
      "metadata": {
        "id": "Q8eq67f82w_i"
      },
      "execution_count": null,
      "outputs": []
    },
    {
      "cell_type": "code",
      "source": [],
      "metadata": {
        "id": "rLkQT0Cs3G9C"
      },
      "execution_count": null,
      "outputs": []
    },
    {
      "cell_type": "markdown",
      "source": [
        "Linear Regression"
      ],
      "metadata": {
        "id": "qXTBEgrF3H5L"
      }
    },
    {
      "cell_type": "code",
      "source": [
        "class LinearRegressionModel(nn.Module):\n",
        "    def __init__(self, input_dim):\n",
        "      super().__init__()\n",
        "      self.linear = nn.Linear(input_dim, 1)\n",
        "    def forward(self, x):\n",
        "      return self.linear(x)"
      ],
      "metadata": {
        "id": "EZ8ocVZV3Sgl"
      },
      "execution_count": null,
      "outputs": []
    },
    {
      "cell_type": "code",
      "source": [
        "model = LinearRegressionModel(X_train_reg.shape[1])\n",
        "criterion = nn.MSELoss()\n",
        "optimizer = optim.Adam(model.parameters(), lr = 0.01)"
      ],
      "metadata": {
        "id": "5qFNc9Z63pvr"
      },
      "execution_count": null,
      "outputs": []
    },
    {
      "cell_type": "code",
      "source": [
        "for epoch in range(10000):\n",
        "    model.train()\n",
        "    output = model(X_train_reg)\n",
        "    loss = criterion(output, y_train_reg)\n",
        "    optimizer.zero_grad()\n",
        "    loss.backward()\n",
        "    optimizer.step()"
      ],
      "metadata": {
        "id": "vUBGbQVh36Ny"
      },
      "execution_count": null,
      "outputs": []
    },
    {
      "cell_type": "code",
      "source": [
        "model.eval()\n",
        "preds = model(X_test_reg).detach().numpy()\n",
        "print(\"Linear Regression MSE: \", mean_squared_error(y_test_reg.numpy(), preds))"
      ],
      "metadata": {
        "colab": {
          "base_uri": "https://localhost:8080/"
        },
        "id": "q2YtiDwY4SCF",
        "outputId": "0c40c243-5125-4585-dba2-3c04219e008e"
      },
      "execution_count": null,
      "outputs": [
        {
          "output_type": "stream",
          "name": "stdout",
          "text": [
            "Linear Regression MSE:  0.007592078298330307\n"
          ]
        }
      ]
    },
    {
      "cell_type": "markdown",
      "source": [
        "Logistic Regression"
      ],
      "metadata": {
        "id": "6mDf9FsV3mCo"
      }
    },
    {
      "cell_type": "code",
      "source": [
        "class LogisticRegressionModel(nn.Module):\n",
        "  def __init__(self, input_dim):\n",
        "    super().__init__()\n",
        "    self.linear = nn.Linear(input_dim, 1)\n",
        "  def forward(self, x):\n",
        "    return torch.sigmoid(self.linear(x))"
      ],
      "metadata": {
        "id": "61v6zOUD4kuo"
      },
      "execution_count": null,
      "outputs": []
    },
    {
      "cell_type": "code",
      "source": [
        "model = LogisticRegressionModel(X_train_clf.shape[1])\n",
        "criterion = nn.BCELoss()\n",
        "optimizer = optim.Adam(model.parameters(), lr = 0.01)"
      ],
      "metadata": {
        "id": "yyzYKfFN4-Nc"
      },
      "execution_count": null,
      "outputs": []
    },
    {
      "cell_type": "code",
      "source": [
        "for epoch in range(10000):\n",
        "    model.train()\n",
        "    output = model(X_train_clf)\n",
        "    loss = criterion(output, y_train_clf)\n",
        "    optimizer.zero_grad()\n",
        "    loss.backward()\n",
        "    optimizer.step()"
      ],
      "metadata": {
        "id": "tPiZGiWn5UsM"
      },
      "execution_count": null,
      "outputs": []
    },
    {
      "cell_type": "code",
      "source": [
        "model.eval()\n",
        "preds = model(X_test_clf).detach().numpy() > 0.5\n",
        "print(\"Logistic Regression Accuracy:\", accuracy_score(y_test_clf.numpy(), preds))"
      ],
      "metadata": {
        "colab": {
          "base_uri": "https://localhost:8080/"
        },
        "id": "guNUaVU56Yap",
        "outputId": "8e5e745f-9334-4cc1-9c35-3801ce9f9f05"
      },
      "execution_count": null,
      "outputs": [
        {
          "output_type": "stream",
          "name": "stdout",
          "text": [
            "Logistic Regression Accuracy: 0.895\n"
          ]
        }
      ]
    },
    {
      "cell_type": "markdown",
      "source": [
        "Neural Network Classifier"
      ],
      "metadata": {
        "id": "uIlY6t2p6bk7"
      }
    },
    {
      "cell_type": "code",
      "source": [
        "class NeuralNetworkClassifier(nn.Module):\n",
        "    def __init__(self, input_dim):\n",
        "        super().__init__()\n",
        "        self.f1 = nn.Linear(input_dim, 10)\n",
        "        self.f2 = nn.Linear(10, 1)\n",
        "    def forward(self, x):\n",
        "        x = F.relu(self.f1(x))\n",
        "        return F.sigmoid(self.f2(x))"
      ],
      "metadata": {
        "id": "B4n4j2F46e8z"
      },
      "execution_count": null,
      "outputs": []
    },
    {
      "cell_type": "code",
      "source": [
        "model = NeuralNetworkClassifier(X_train_clf.shape[1])\n",
        "criterion = nn.BCELoss()\n",
        "optimizer = optim.Adam(model.parameters(), lr = 0.01)"
      ],
      "metadata": {
        "id": "ShTllT9xd23O"
      },
      "execution_count": null,
      "outputs": []
    },
    {
      "cell_type": "code",
      "source": [
        "for epoch in range(10000):\n",
        "    model.train()\n",
        "    output = model(X_train_clf)\n",
        "    loss = criterion(output, y_train_clf)\n",
        "    optimizer.zero_grad()\n",
        "    loss.backward()\n",
        "    optimizer.step()"
      ],
      "metadata": {
        "id": "j3EpuWgReC5Z"
      },
      "execution_count": null,
      "outputs": []
    },
    {
      "cell_type": "code",
      "source": [
        "model.eval()\n",
        "preds = model(X_test_clf).detach().numpy() > 0.5\n",
        "print(\"Simple Neural Network Accuracy:\", accuracy_score(y_test_clf.numpy(), preds))"
      ],
      "metadata": {
        "colab": {
          "base_uri": "https://localhost:8080/"
        },
        "id": "fOYc8YaQeoB3",
        "outputId": "ffa0b071-798e-4a63-af3d-dbb2a2fef895"
      },
      "execution_count": null,
      "outputs": [
        {
          "output_type": "stream",
          "name": "stdout",
          "text": [
            "Simple Neural Network Accuracy: 0.87\n"
          ]
        }
      ]
    },
    {
      "cell_type": "markdown",
      "source": [
        "Decision Tree Classifier"
      ],
      "metadata": {
        "id": "92cqaw_Ge_Ji"
      }
    },
    {
      "cell_type": "code",
      "source": [
        "tree = DecisionTreeClassifier()\n",
        "tree.fit(X_train_clf.numpy(), y_train_clf.numpy().ravel())\n",
        "preds = tree.predict(X_test_clf.numpy())\n",
        "print(\"Decision Tree Accuracy:\", accuracy_score(y_test_clf.numpy(), preds))"
      ],
      "metadata": {
        "colab": {
          "base_uri": "https://localhost:8080/"
        },
        "id": "CCSOGNHKfBA6",
        "outputId": "4893dbf7-4ec2-4073-8c1c-30eb7955a395"
      },
      "execution_count": null,
      "outputs": [
        {
          "output_type": "stream",
          "name": "stdout",
          "text": [
            "Decision Tree Accuracy: 0.875\n"
          ]
        }
      ]
    },
    {
      "cell_type": "markdown",
      "source": [
        "Random Forest Classifer"
      ],
      "metadata": {
        "id": "hEnMNLf0fOD-"
      }
    },
    {
      "cell_type": "code",
      "source": [
        "forest = RandomForestClassifier(n_estimators=100)\n",
        "forest.fit(X_train_clf.numpy(), y_train_clf.numpy().ravel())\n",
        "preds = forest.predict(X_test_clf.numpy())\n",
        "print(\"Random Forest Accuracy:\", accuracy_score(y_test_clf.numpy(), preds))"
      ],
      "metadata": {
        "colab": {
          "base_uri": "https://localhost:8080/"
        },
        "id": "j0CmSyHJfDSl",
        "outputId": "a77732fb-64fd-41a4-bb03-b601129b9766"
      },
      "execution_count": null,
      "outputs": [
        {
          "output_type": "stream",
          "name": "stdout",
          "text": [
            "Random Forest Accuracy: 0.915\n"
          ]
        }
      ]
    },
    {
      "cell_type": "markdown",
      "source": [
        "Deep Neural Network"
      ],
      "metadata": {
        "id": "3GlL96_QfXxV"
      }
    },
    {
      "cell_type": "code",
      "source": [
        "class DeepNN(nn.Module):\n",
        "    def __init__(self, input_dim):\n",
        "        super().__init__()\n",
        "        self.net = nn.Sequential(\n",
        "            nn.Linear(input_dim, 64),\n",
        "            nn.ReLU(),\n",
        "            nn.Linear(64, 64),\n",
        "            nn.ReLU(),\n",
        "            nn.Linear(64, 32),\n",
        "            nn.ReLU(),\n",
        "            nn.Linear(32, 1),\n",
        "            nn.Sigmoid()\n",
        "        )\n",
        "\n",
        "    def forward(self, x):\n",
        "        return self.net(x)"
      ],
      "metadata": {
        "id": "G97jOXhvfS9D"
      },
      "execution_count": null,
      "outputs": []
    },
    {
      "cell_type": "code",
      "source": [
        "model = DeepNN(X_train_clf.shape[1])\n",
        "criterion = nn.BCELoss()\n",
        "optimizer = optim.Adam(model.parameters(), lr=0.001)"
      ],
      "metadata": {
        "id": "XnycWUGRfby3"
      },
      "execution_count": null,
      "outputs": []
    },
    {
      "cell_type": "code",
      "source": [
        "for epoch in range(1000):\n",
        "    model.train()\n",
        "    output = model(X_train_clf)\n",
        "    loss = criterion(output, y_train_clf)\n",
        "    optimizer.zero_grad()\n",
        "    loss.backward()\n",
        "    optimizer.step()"
      ],
      "metadata": {
        "id": "PWqRRsaafdA-"
      },
      "execution_count": null,
      "outputs": []
    },
    {
      "cell_type": "code",
      "source": [
        "model.eval()\n",
        "preds = model(X_test_clf).detach().numpy() > 0.5\n",
        "print(\"Deep NN Accuracy:\", accuracy_score(y_test_clf.numpy(), preds))"
      ],
      "metadata": {
        "colab": {
          "base_uri": "https://localhost:8080/"
        },
        "id": "U1zFz775ffba",
        "outputId": "25f23e66-c624-426a-87da-ea80c3bb09de"
      },
      "execution_count": null,
      "outputs": [
        {
          "output_type": "stream",
          "name": "stdout",
          "text": [
            "Deep NN Accuracy: 0.875\n"
          ]
        }
      ]
    }
  ]
}