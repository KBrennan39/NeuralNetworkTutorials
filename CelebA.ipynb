{
  "nbformat": 4,
  "nbformat_minor": 0,
  "metadata": {
    "colab": {
      "provenance": []
    },
    "kernelspec": {
      "name": "python3",
      "display_name": "Python 3"
    },
    "language_info": {
      "name": "python"
    }
  },
  "cells": [
    {
      "cell_type": "code",
      "execution_count": null,
      "metadata": {
        "id": "upHRC5NdWL42"
      },
      "outputs": [],
      "source": [
        "import torch\n",
        "import torchvision"
      ]
    },
    {
      "cell_type": "code",
      "source": [
        "import torchvision.datasets as datasets\n",
        "import torchvision.transforms as transforms\n",
        "from torch.utils.data import DataLoader\n",
        "import torch.nn.functional as F"
      ],
      "metadata": {
        "id": "2lb-GVFZWSC2"
      },
      "execution_count": null,
      "outputs": []
    },
    {
      "cell_type": "code",
      "source": [
        "# Transform: resize and normalize\n",
        "transform = transforms.Compose([\n",
        "    transforms.Resize((128, 128)),       # Resize to smaller size (optional)\n",
        "    transforms.ToTensor(),               # Convert image to PyTorch tensor\n",
        "    transforms.Normalize((0.5,), (0.5,)) # Normalize to [-1, 1]\n",
        "])\n",
        "\n",
        "\n",
        "\n",
        "train_loader = torch.utils.data.DataLoader(\n",
        "  datasets.CelebA(root='./data', split='train', download=True,\n",
        "                  transform=transform), batch_size=64, shuffle=True)\n",
        "test_loader = torch.utils.data.DataLoader(\n",
        "  datasets.CelebA(root='./data', split='test', download=True,\n",
        "                  transform=transform), batch_size=1000, shuffle=True)\n",
        "# Check one batch\n",
        "images, labels = next(iter(train_loader))\n",
        "print(\"Image batch shape:\", images.shape)\n",
        "print(\"Label shape:\", labels.shape)"
      ],
      "metadata": {
        "colab": {
          "base_uri": "https://localhost:8080/"
        },
        "id": "TytFiyTtWU1T",
        "outputId": "8d22f026-d450-4437-8099-def1a388c42d"
      },
      "execution_count": null,
      "outputs": [
        {
          "output_type": "stream",
          "name": "stderr",
          "text": [
            "Downloading...\n",
            "From (original): https://drive.google.com/uc?id=0B7EVK8r0v71pZjFTYXZWM3FlRnM\n",
            "From (redirected): https://drive.usercontent.google.com/download?id=0B7EVK8r0v71pZjFTYXZWM3FlRnM&confirm=t&uuid=d876c8dd-0c34-4b3d-bd63-7a9bc4e3cbdb\n",
            "To: /content/data/celeba/img_align_celeba.zip\n",
            "100%|██████████| 1.44G/1.44G [00:18<00:00, 76.6MB/s]\n",
            "Downloading...\n",
            "From: https://drive.google.com/uc?id=0B7EVK8r0v71pblRyaVFSWGxPY0U\n",
            "To: /content/data/celeba/list_attr_celeba.txt\n",
            "100%|██████████| 26.7M/26.7M [00:00<00:00, 73.2MB/s]\n",
            "Downloading...\n",
            "From: https://drive.google.com/uc?id=1_ee_0u7vcNLOfNLegJRHmolfH5ICW-XS\n",
            "To: /content/data/celeba/identity_CelebA.txt\n",
            "100%|██████████| 3.42M/3.42M [00:00<00:00, 26.3MB/s]\n",
            "Downloading...\n",
            "From: https://drive.google.com/uc?id=0B7EVK8r0v71pbThiMVRxWXZ4dU0\n",
            "To: /content/data/celeba/list_bbox_celeba.txt\n",
            "100%|██████████| 6.08M/6.08M [00:00<00:00, 86.1MB/s]\n",
            "Downloading...\n",
            "From: https://drive.google.com/uc?id=0B7EVK8r0v71pd0FJY3Blby1HUTQ\n",
            "To: /content/data/celeba/list_landmarks_align_celeba.txt\n",
            "100%|██████████| 12.2M/12.2M [00:00<00:00, 99.3MB/s]\n",
            "Downloading...\n",
            "From: https://drive.google.com/uc?id=0B7EVK8r0v71pY0NSMzRuSXJEVkk\n",
            "To: /content/data/celeba/list_eval_partition.txt\n",
            "100%|██████████| 2.84M/2.84M [00:00<00:00, 22.2MB/s]\n"
          ]
        },
        {
          "output_type": "stream",
          "name": "stdout",
          "text": [
            "Image batch shape: torch.Size([64, 3, 128, 128])\n",
            "Label shape: torch.Size([64, 40])\n"
          ]
        }
      ]
    },
    {
      "cell_type": "code",
      "source": [
        "train_loader.dataset.attr_names"
      ],
      "metadata": {
        "colab": {
          "base_uri": "https://localhost:8080/"
        },
        "id": "IMztOk-tXu70",
        "outputId": "50e2b633-c999-4e50-e5f2-2b7dc9fa0822"
      },
      "execution_count": null,
      "outputs": [
        {
          "output_type": "execute_result",
          "data": {
            "text/plain": [
              "['5_o_Clock_Shadow',\n",
              " 'Arched_Eyebrows',\n",
              " 'Attractive',\n",
              " 'Bags_Under_Eyes',\n",
              " 'Bald',\n",
              " 'Bangs',\n",
              " 'Big_Lips',\n",
              " 'Big_Nose',\n",
              " 'Black_Hair',\n",
              " 'Blond_Hair',\n",
              " 'Blurry',\n",
              " 'Brown_Hair',\n",
              " 'Bushy_Eyebrows',\n",
              " 'Chubby',\n",
              " 'Double_Chin',\n",
              " 'Eyeglasses',\n",
              " 'Goatee',\n",
              " 'Gray_Hair',\n",
              " 'Heavy_Makeup',\n",
              " 'High_Cheekbones',\n",
              " 'Male',\n",
              " 'Mouth_Slightly_Open',\n",
              " 'Mustache',\n",
              " 'Narrow_Eyes',\n",
              " 'No_Beard',\n",
              " 'Oval_Face',\n",
              " 'Pale_Skin',\n",
              " 'Pointy_Nose',\n",
              " 'Receding_Hairline',\n",
              " 'Rosy_Cheeks',\n",
              " 'Sideburns',\n",
              " 'Smiling',\n",
              " 'Straight_Hair',\n",
              " 'Wavy_Hair',\n",
              " 'Wearing_Earrings',\n",
              " 'Wearing_Hat',\n",
              " 'Wearing_Lipstick',\n",
              " 'Wearing_Necklace',\n",
              " 'Wearing_Necktie',\n",
              " 'Young',\n",
              " '']"
            ]
          },
          "metadata": {},
          "execution_count": 8
        }
      ]
    },
    {
      "cell_type": "code",
      "source": [
        "import torch.nn as nn\n",
        "from tqdm import tqdm\n",
        "import numpy as np\n",
        "import torch.nn as nn\n",
        "import torch.optim as optim\n",
        "import torch.utils.data as data\n",
        "import torchvision.transforms as transforms"
      ],
      "metadata": {
        "id": "HVGxxAV1Wnef"
      },
      "execution_count": null,
      "outputs": []
    },
    {
      "cell_type": "code",
      "source": [
        "class Net(nn.Module):\n",
        "    def __init__(self):\n",
        "      super(Net, self).__init__()\n",
        "      self.layer1 = nn.Sequential(\n",
        "          nn.Conv2d(3, 16, kernel_size=3),\n",
        "          nn.BatchNorm2d(16),\n",
        "          nn.ReLU(),\n",
        "          nn.MaxPool2d(kernel_size=2, stride=2)\n",
        "      )\n",
        "      self.layer2 = nn.Sequential(\n",
        "          nn.Conv2d(16, 16, kernel_size=3),\n",
        "          nn.BatchNorm2d(16),\n",
        "          nn.ReLU(),\n",
        "          nn.MaxPool2d(kernel_size=2, stride=2)\n",
        "      )\n",
        "      self.layer3 = nn.Sequential(\n",
        "          nn.Conv2d(16, 64, kernel_size=3),\n",
        "          nn.BatchNorm2d(64),\n",
        "          nn.ReLU(),\n",
        "      )\n",
        "\n",
        "      self.fc = nn.Sequential(\n",
        "          nn.Linear(64 * 28 * 28, 128),\n",
        "          nn.ReLU(),\n",
        "          nn.Linear(128, 128),\n",
        "          nn.ReLU(),\n",
        "          nn.Linear(128, 40)\n",
        "      )\n",
        "\n",
        "    def forward(self, x):\n",
        "      x = self.layer1(x)\n",
        "      x = self.layer2(x)\n",
        "      x = self.layer3(x)\n",
        "      x = x.view(x.size(0), -1)\n",
        "      x = self.fc(x)\n",
        "      return x\n"
      ],
      "metadata": {
        "id": "1rPwoglmWn-B"
      },
      "execution_count": null,
      "outputs": []
    },
    {
      "cell_type": "code",
      "source": [
        "model = Net()\n",
        "optimizer = optim.SGD(model.parameters(), lr=0.01, momentum=0.9)\n",
        "criterion = nn.BCEWithLogitsLoss()"
      ],
      "metadata": {
        "id": "Aov2P63RWp48"
      },
      "execution_count": null,
      "outputs": []
    },
    {
      "cell_type": "code",
      "source": [
        "def train(epoch):\n",
        "  model.train()\n",
        "  for inputs, targets in tqdm(train_loader):\n",
        "    optimizer.zero_grad()\n",
        "    outputs = model(inputs)\n",
        "\n",
        "    targets = targets.to(torch.float32)\n",
        "    loss = criterion(outputs, targets)\n",
        "    loss.backward()\n",
        "    optimizer.step()\n"
      ],
      "metadata": {
        "id": "ZledN2AKZCNi"
      },
      "execution_count": null,
      "outputs": []
    },
    {
      "cell_type": "code",
      "source": [
        "for epoch in range(3):\n",
        "  train(epoch)"
      ],
      "metadata": {
        "id": "mgwxTHP4aktw"
      },
      "execution_count": null,
      "outputs": []
    },
    {
      "cell_type": "code",
      "source": [
        "def test():\n",
        "    model.eval()\n",
        "    correct_per_attribute = torch.zeros(40)\n",
        "    total_samples = 0\n",
        "\n",
        "    with torch.no_grad():\n",
        "        for inputs, targets in test_loader:\n",
        "\n",
        "            logits = model(inputs)  # shape: (batch_size, 40)\n",
        "            probs = torch.sigmoid(logits)  # apply sigmoid for multi-label\n",
        "            preds = (probs > 0.5).float()  # thresholding\n",
        "\n",
        "            correct_per_attribute += (preds == targets).sum(dim=0)\n",
        "            total_samples += targets.size(0)\n",
        "\n",
        "    # Accuracy per attribute\n",
        "    acc_per_attribute = correct_per_attribute / total_samples\n",
        "    avg_acc = acc_per_attribute.mean().item()\n",
        "\n",
        "    print(f\"Average accuracy across 40 attributes: {avg_acc * 100:.2f}%\")\n",
        "\n",
        "    # Optional: print individual attribute accuracies\n",
        "    for i, acc in enumerate(acc_per_attribute):\n",
        "        print(f\"Attribute {i+1}: Accuracy = {acc.item() * 100:.2f}%\")\n"
      ],
      "metadata": {
        "id": "P4AGwbOHaYZd"
      },
      "execution_count": null,
      "outputs": []
    },
    {
      "cell_type": "code",
      "source": [
        "test()"
      ],
      "metadata": {
        "colab": {
          "base_uri": "https://localhost:8080/"
        },
        "id": "eewYikDBYzPd",
        "outputId": "6f720cce-cd35-4e57-fe24-8878db8bfd3c"
      },
      "execution_count": null,
      "outputs": [
        {
          "output_type": "stream",
          "name": "stdout",
          "text": [
            "Average accuracy across 40 attributes: 89.47%\n",
            "Attribute 1: Accuracy = 92.36%\n",
            "Attribute 2: Accuracy = 79.73%\n",
            "Attribute 3: Accuracy = 80.54%\n",
            "Attribute 4: Accuracy = 83.21%\n",
            "Attribute 5: Accuracy = 98.01%\n",
            "Attribute 6: Accuracy = 94.54%\n",
            "Attribute 7: Accuracy = 70.13%\n",
            "Attribute 8: Accuracy = 82.29%\n",
            "Attribute 9: Accuracy = 86.64%\n",
            "Attribute 10: Accuracy = 95.02%\n",
            "Attribute 11: Accuracy = 95.37%\n",
            "Attribute 12: Accuracy = 86.69%\n",
            "Attribute 13: Accuracy = 91.69%\n",
            "Attribute 14: Accuracy = 94.89%\n",
            "Attribute 15: Accuracy = 95.78%\n",
            "Attribute 16: Accuracy = 98.92%\n",
            "Attribute 17: Accuracy = 96.49%\n",
            "Attribute 18: Accuracy = 97.67%\n",
            "Attribute 19: Accuracy = 89.86%\n",
            "Attribute 20: Accuracy = 85.60%\n",
            "Attribute 21: Accuracy = 96.48%\n",
            "Attribute 22: Accuracy = 92.11%\n",
            "Attribute 23: Accuracy = 96.27%\n",
            "Attribute 24: Accuracy = 86.36%\n",
            "Attribute 25: Accuracy = 94.07%\n",
            "Attribute 26: Accuracy = 73.69%\n",
            "Attribute 27: Accuracy = 96.68%\n",
            "Attribute 28: Accuracy = 75.09%\n",
            "Attribute 29: Accuracy = 92.51%\n",
            "Attribute 30: Accuracy = 94.57%\n",
            "Attribute 31: Accuracy = 96.63%\n",
            "Attribute 32: Accuracy = 90.81%\n",
            "Attribute 33: Accuracy = 79.95%\n",
            "Attribute 34: Accuracy = 75.58%\n",
            "Attribute 35: Accuracy = 85.25%\n",
            "Attribute 36: Accuracy = 98.25%\n",
            "Attribute 37: Accuracy = 91.57%\n",
            "Attribute 38: Accuracy = 86.29%\n",
            "Attribute 39: Accuracy = 95.37%\n",
            "Attribute 40: Accuracy = 85.92%\n"
          ]
        }
      ]
    }
  ]
}